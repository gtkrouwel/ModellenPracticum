{
 "cells": [
  {
   "cell_type": "code",
   "execution_count": 1,
   "metadata": {},
   "outputs": [],
   "source": [
    "import os\n",
    "from pathlib import Path\n",
    "import numpy as np\n",
    "import matplotlib.pyplot as plt\n",
    "from scipy.optimize import curve_fit"
   ]
  },
  {
   "cell_type": "markdown",
   "metadata": {},
   "source": [
    "# Test"
   ]
  },
  {
   "cell_type": "code",
   "execution_count": 2,
   "metadata": {},
   "outputs": [
    {
     "data": {
      "image/png": "[encoded data removed]",
      "text/plain": [
       "<Figure size 432x288 with 1 Axes>"
      ]
     },
     "metadata": {
      "needs_background": "light"
     },
     "output_type": "display_data"
    }
   ],
   "source": [
    "xdata = [ -10.0, -9.0, -8.0, -7.0, -6.0, -5.0, -4.0, -3.0, -2.0, -1.0, 0.0, 1.0, 2.0, 3.0, 4.0, 5.0, 6.0, 7.0, 8.0, 9.0, 10.0]\n",
    "ydata = [1.2, 4.2, 6.7, 8.3, 10.6, 11.7, 13.5, 14.5, 15.7, 16.1, 16.6, 16.0, 15.4, 14.4, 14.2, 12.7, 10.3, 8.6, 6.1, 3.9, 2.1]\n",
    "\n",
    "xdata = np.asarray(xdata)\n",
    "ydata = np.asarray(ydata)\n",
    "plt.plot(xdata, ydata, 'o')\n",
    "plt.show()"
   ]
  },
  {
   "cell_type": "code",
   "execution_count": 3,
   "metadata": {},
   "outputs": [
    {
     "name": "stdout",
     "output_type": "stream",
     "text": [
      "The optimal parameters are:\n",
      "a = -0.14771910012434963\n",
      "b = 0.011168831166674442\n",
      "c = 16.02589081402427\n"
     ]
    }
   ],
   "source": [
    "def f1(x, a, b, c):\n",
    "    return a * x**2 + b * x + c\n",
    "\n",
    "params, covariance = curve_fit(f1, xdata, ydata)\n",
    "a, b, c = params\n",
    "print(\"The optimal parameters are:\")\n",
    "print(\"a =\",a)\n",
    "print(\"b =\",b)\n",
    "print(\"c =\",c)"
   ]
  },
  {
   "cell_type": "code",
   "execution_count": 4,
   "metadata": {},
   "outputs": [
    {
     "name": "stdout",
     "output_type": "stream",
     "text": [
      "[ 5.          5.34482759  5.68965517  6.03448276  6.37931034  6.72413793\n",
      "  7.06896552  7.4137931   7.75862069  8.10344828  8.44827586  8.79310345\n",
      "  9.13793103  9.48275862  9.82758621 10.17241379 10.51724138 10.86206897\n",
      " 11.20689655 11.55172414 11.89655172 12.24137931 12.5862069  12.93103448\n",
      " 13.27586207 13.62068966 13.96551724 14.31034483 14.65517241 15.        ]\n"
     ]
    }
   ],
   "source": [
    "# test\n",
    "foo = np.linspace(0,10,30)\n",
    "bar = 5\n",
    "f2 = lambda x: x+bar\n",
    "print(f2(foo))"
   ]
  },
  {
   "cell_type": "code",
   "execution_count": 5,
   "metadata": {},
   "outputs": [
    {
     "data": {
      "image/png": "[encoded data removed]",
      "text/plain": [
       "<Figure size 432x288 with 1 Axes>"
      ]
     },
     "metadata": {
      "needs_background": "light"
     },
     "output_type": "display_data"
    }
   ],
   "source": [
    "xgrid = np.linspace(-10,10,200)\n",
    "f3 = lambda x: a * x**2 + b * x + c\n",
    "ygrid = f3(xgrid)\n",
    "\n",
    "# Plot data with fitted curve.\n",
    "plt.plot(xdata, ydata, 'o')\n",
    "plt.plot(xgrid,ygrid)\n",
    "plt.show()"
   ]
  },
  {
   "cell_type": "markdown",
   "metadata": {},
   "source": [
    "# Cable temperature\n",
    "The equation for our model:<br>\n",
    "T<sub>cable</sub>(t) = CI(t) + T<sub>soil</sub>"
   ]
  },
  {
   "cell_type": "code",
   "execution_count": 6,
   "metadata": {},
   "outputs": [],
   "source": [
    "def model_equation(x, c):\n",
    "    \"\"\"This function represents the model equation to which we will fit the data.\n",
    "    Input:\n",
    "    - x\n",
    "      Array-like with two elements:\n",
    "      - x[0] is the current \"I\" through the cable.\n",
    "      - x[1] is the soil temperature T_soil.\n",
    "    - c\n",
    "      The parameter: the constant \"C\" from the model equation.\n",
    "\n",
    "    Output: T_cable\"\"\"\n",
    "    return c * x[0] + x[1]"
   ]
  },
  {
   "cell_type": "code",
   "execution_count": 7,
   "metadata": {},
   "outputs": [
    {
     "name": "stdout",
     "output_type": "stream",
     "text": [
      "Confirmed data folder exists.\n",
      "..\\..\\modellenpracticum2022-speed-of-heat\\data\n",
      "\n",
      "..\\..\\modellenpracticum2022-speed-of-heat\\data\\1358\n",
      "..\\..\\modellenpracticum2022-speed-of-heat\\data\\2003\n",
      "..\\..\\modellenpracticum2022-speed-of-heat\\data\\20049\n",
      "..\\..\\modellenpracticum2022-speed-of-heat\\data\\20726\n",
      "..\\..\\modellenpracticum2022-speed-of-heat\\data\\22102\n",
      "..\\..\\modellenpracticum2022-speed-of-heat\\data\\2308\n",
      "..\\..\\modellenpracticum2022-speed-of-heat\\data\\2611\n",
      "..\\..\\modellenpracticum2022-speed-of-heat\\data\\2821\n",
      "..\\..\\modellenpracticum2022-speed-of-heat\\data\\3249\n",
      "..\\..\\modellenpracticum2022-speed-of-heat\\data\\3410\n",
      "..\\..\\modellenpracticum2022-speed-of-heat\\data\\3512\n",
      "..\\..\\modellenpracticum2022-speed-of-heat\\data\\3543\n",
      "..\\..\\modellenpracticum2022-speed-of-heat\\data\\weather_cds_data\n"
     ]
    }
   ],
   "source": [
    "path_to_data = Path(os.pardir, os.pardir, \"modellenpracticum2022-speed-of-heat\", \"data\")\n",
    "\n",
    "if path_to_data.is_dir():\n",
    "    print(\"Confirmed data folder exists.\")\n",
    "# else:\n",
    "    # TODO handle error.\n",
    "\n",
    "print(path_to_data)\n",
    "print()\n",
    "for subdir in path_to_data.iterdir():\n",
    "    print(subdir)"
   ]
  },
  {
   "cell_type": "markdown",
   "metadata": {},
   "source": [
    "Trying to load data (didn't yet know about predefined function in preprocess.py)"
   ]
  },
  {
   "cell_type": "code",
   "execution_count": 12,
   "metadata": {},
   "outputs": [
    {
     "name": "stdout",
     "output_type": "stream",
     "text": [
      "(36732, 1)\n",
      "First entry from \"1358\" is Edm-10-2i-010V201-I    88,9\n",
      "Name: 0, dtype: object\n",
      "(109017, 1)\n",
      "First entry from \"2003\" is Amvb-10-V161-I    83,68\n",
      "Name: 0, dtype: object\n",
      "(82031, 1)\n",
      "First entry from \"20049\" is Frk-SS-10-V15-I    8,03\n",
      "Name: 0, dtype: object\n",
      "(73190, 1)\n",
      "First entry from \"20726\" is Ure-SS-10-V05-I    3,72\n",
      "Name: 0, dtype: object\n",
      "(43926, 1)\n",
      "First entry from \"22102\" is Tl-10-1-2.60-I    50,4\n",
      "Name: 0, dtype: object\n",
      "(152791, 1)\n",
      "First entry from \"2308\" is Lmd-10-V.116-I    141,2\n",
      "Name: 0, dtype: object\n",
      "(137599, 1)\n",
      "First entry from \"2611\" is Alk-10-V137-I    75,41\n",
      "Name: 0, dtype: object\n",
      "(14688, 1)\n",
      "First entry from \"2821\" is Uhn-10-V157-I    49,17\n",
      "Name: 0, dtype: object\n",
      "(0, 1)\n",
      "empty data array\n",
      "(36732, 1)\n",
      "First entry from \"3410\" is Edm-10-2i-010V201-I    88,9\n",
      "Name: 0, dtype: object\n",
      "(108233, 1)\n",
      "First entry from \"3512\" is Twy-SS-10-V11-I    36,37\n",
      "Name: 0, dtype: object\n",
      "(108238, 1)\n",
      "First entry from \"3543\" is Bvw-10-V140-I    106,83\n",
      "Name: 0, dtype: object\n"
     ]
    }
   ],
   "source": [
    "# Data is formatted like \"123,456\" but we need point decimal separator instead of comma.\n",
    "comma_to_point = lambda s: s.replace(',','.').encode()\n",
    "\n",
    "import pandas as pd\n",
    "\n",
    "# For every directory that contains all data for one specific cable.\n",
    "for subdir in path_to_data.iterdir():\n",
    "    path_to_input_file = subdir / \"Power.csv\"  # File that contains the current in Ampere.\n",
    "    if path_to_input_file.is_file():  # Skip the weather folder.\n",
    "        # TODO the below line doesn't yet give correct result.\n",
    "        # current = np.genfromtxt(path_to_input_file, skip_header=1, delimiter=';', usecols=2)#, converters={2: comma_to_point})\n",
    "\n",
    "        current = pd.read_csv(path_to_input_file, usecols=(2,), delimiter=';')\n",
    "        \n",
    "        # Testing:\n",
    "        print(current.shape)\n",
    "        if current.size > 0:\n",
    "            print('First entry from \"', subdir.name, '\" is ', current.iloc[0], sep=\"\")\n",
    "        else:\n",
    "            print(\"empty data array\")\n",
    "    "
   ]
  },
  {
   "cell_type": "code",
   "execution_count": null,
   "metadata": {},
   "outputs": [],
   "source": []
  }
 ],
 "metadata": {
  "kernelspec": {
   "display_name": "Python 3",
   "language": "python",
   "name": "python3"
  },
  "language_info": {
   "codemirror_mode": {
    "name": "ipython",
    "version": 3
   },
   "file_extension": ".py",
   "mimetype": "text/x-python",
   "name": "python",
   "nbconvert_exporter": "python",
   "pygments_lexer": "ipython3",
   "version": "3.10.2"
  }
 },
 "nbformat": 4,
 "nbformat_minor": 4
}
