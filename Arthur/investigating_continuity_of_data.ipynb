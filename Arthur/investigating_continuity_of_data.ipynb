{
 "cells": [
  {
   "cell_type": "markdown",
   "metadata": {},
   "source": [
    "The soil temperature data is continuous: no gaps where data is missing. However, there are gaps in the data for other attributes such as power and propagation speed. For different attributes these gaps are unfortunately not even necessarily at the same time. Furthermore, the data for different attributes may start and end at different times. In order to escape this confusing mess, it would be useful to have a function that takes a circuit number and returns a (\"maximal\") list of time intervals where in each such interval, data for each attribute is available.\n",
    "\n",
    "Here, \"maximal\" means that there is no point in time:\n",
    "- at which there is data available for each (relevant) attribute\n",
    "- which is not part of an interval in the returned list.\n",
    "\n",
    "Of course the intervals should also be disjoint. If there were overlap, it would be better to join the overlapping intervals in order to avoid unnecessarily separating continuous data. (We will optimize the parameters of the main model on each interval separately.)\n",
    "\n",
    "It may not be strictly necessary, but it seems like a good idea to make some plots and look at these discontinuities."
   ]
  },
  {
   "cell_type": "code",
   "execution_count": 1,
   "metadata": {},
   "outputs": [],
   "source": [
    "import auxiliary_cable_temperature_model as auxm"
   ]
  },
  {
   "cell_type": "code",
   "execution_count": 2,
   "metadata": {},
   "outputs": [
    {
     "name": "stdout",
     "output_type": "stream",
     "text": [
      "          Date/time (UTC)  Current\n",
      "0     2020-01-01 00:15:00     3.72\n",
      "1     2020-01-01 00:30:00     3.67\n",
      "2     2020-01-01 00:45:00     3.40\n",
      "3     2020-01-01 01:00:00     3.66\n",
      "4     2020-01-01 01:15:00     3.34\n",
      "...                   ...      ...\n",
      "73185 2022-02-01 10:45:00     7.02\n",
      "73186 2022-02-01 11:00:00     6.89\n",
      "73187 2022-02-01 11:15:00     6.73\n",
      "73188 2022-02-01 11:30:00     6.86\n",
      "73189 2022-02-01 11:45:00     7.24\n",
      "\n",
      "[73190 rows x 2 columns]\n"
     ]
    }
   ],
   "source": [
    "circuit_no = auxm.get_circuit_nos()[3]\n",
    "elec_data = auxm.get_electricity_data(circuit_no)\n",
    "print(elec_data)"
   ]
  },
  {
   "cell_type": "code",
   "execution_count": null,
   "metadata": {},
   "outputs": [],
   "source": []
  }
 ],
 "metadata": {
  "interpreter": {
   "hash": "26de051ba29f2982a8de78e945f0abaf191376122a1563185a90213a26c5da77"
  },
  "kernelspec": {
   "display_name": "Python 3.10.2 64-bit",
   "language": "python",
   "name": "python3"
  },
  "language_info": {
   "codemirror_mode": {
    "name": "ipython",
    "version": 3
   },
   "file_extension": ".py",
   "mimetype": "text/x-python",
   "name": "python",
   "nbconvert_exporter": "python",
   "pygments_lexer": "ipython3",
   "version": "3.10.2"
  },
  "orig_nbformat": 4
 },
 "nbformat": 4,
 "nbformat_minor": 2
}
