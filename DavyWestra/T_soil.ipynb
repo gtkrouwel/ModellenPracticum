{
 "cells": [
  {
   "cell_type": "markdown",
   "metadata": {},
   "source": [
    "## Weather API for retrieving T_soil"
   ]
  },
  {
   "cell_type": "markdown",
   "metadata": {},
   "source": [
    "### This part of code can be used to transform coordinates to lat, lon"
   ]
  },
  {
   "cell_type": "code",
   "execution_count": 6,
   "metadata": {},
   "outputs": [],
   "source": [
    "from pyproj import Transformer\n",
    "\n",
    "circuit_1358 = 131436.240,502678.470\n",
    "circuit_2003 = 117955.218,479433.147\n",
    "circuit_2308 = 105884.568,465322.411\n",
    "circuit_2611 = 111530.098,516758.349\n",
    "circuit_2821 = 114053.548,471692.944\n",
    "circuit_3249 = 163329.228,564016.874\n",
    "circuit_3410 = 132660.045,501028.933\n",
    "circuit_3512 = 198110.621,585155.202\n",
    "circuit_3543 = 106754.478,500162.533\n",
    "circuit_20049 = 165236.264,577272.523\n",
    "circuit_20726 = 206863.49,567024.869\n",
    "circuit_22102 = 158361.29,432857.689\n",
    "\n",
    "# input X and Y as a tuple\n",
    "def XY_to_latlon(XY):\n",
    "    # transforms from Dutch Coordinate System (Amersfoort / RD New) to World Coordinate System (WGS84)\n",
    "    transformer = Transformer.from_crs( \"EPSG:28992\",\"EPSG:4326\")\n",
    "    lat, lon = transformer.transform(XY[0],XY[1])\n",
    "    return lat,lon"
   ]
  },
  {
   "cell_type": "markdown",
   "metadata": {},
   "source": [
    "### With this section of code we can pull the weather data from a weather API. We provide a _start date_ and _end date_ and _longitude_ and _latitude_ and it returns a weather data frame. \n",
    "\n",
    "#### To run this you need a \"data\" folder containing a \"weather_cds_data\" folder."
   ]
  },
  {
   "cell_type": "code",
   "execution_count": 2,
   "metadata": {},
   "outputs": [],
   "source": [
    "#!/usr/bin/env python\n",
    "# -*- coding: utf-8 -*-\n",
    "\n",
    "import datetime\n",
    "import logging\n",
    "from pathlib import Path\n",
    "\n",
    "import pandas as pd\n",
    "import requests\n",
    "\n",
    "DATA_PATH = \"data\"\n",
    "\n",
    "logger = logging.getLogger(__name__)\n",
    "\n",
    "data_path = Path(DATA_PATH)\n",
    "downloaded_weather_folder = data_path / \"weather_data\"\n",
    "downloaded_weather_uur_folder = data_path / \"weather_uur_data\"\n",
    "downloaded_weather_cds_folder = data_path / \"weather_cds_data\"\n",
    "\n",
    "\n",
    "def _format_date(unformatted_date: datetime.date):\n",
    "    return unformatted_date.strftime(\"%Y-%m-%d\")\n",
    "\n",
    "\n",
    "def _create_url(begin_date: datetime.date, end_date: datetime.date, lat=52.1, lon=5.18):\n",
    "    begin_date_str = _format_date(begin_date)\n",
    "    end_date_str = _format_date(end_date)\n",
    "    url_template = f\"https://weather.appx.cloud/api/v2/weather/sources/knmi/models/daggegevens?begin={begin_date_str}&end={end_date_str}&lat={lat}&lon={lon}&units=human&response_format=csv\"\n",
    "    return url_template\n",
    "\n",
    "\n",
    "def _create_url_uur(begin_date: datetime.date, end_date: datetime.date, lat=52.1, lon=5.18):\n",
    "    begin_date_str = _format_date(begin_date)\n",
    "    end_date_str = _format_date(end_date)\n",
    "    url_template = f\"https://weather.appx.cloud/api/v2/weather/sources/knmi/models/uurgegevens?begin={begin_date_str}&end={end_date_str}&lat={end_date_str}&lat={str(lat)}&lon={str(lon)}&units=human&response_format=csv\"\n",
    "    return url_template\n",
    "\n",
    "\n",
    "def _create_url_cds(begin_date: datetime.date, end_date: datetime.date, lat=52.1, lon=5.18):\n",
    "    begin_date_str = _format_date(begin_date)\n",
    "    end_date_str = _format_date(end_date)\n",
    "    url_template = f\"https://weather.appx.cloud/api/v2/weather/sources/cds/models/era5sl?begin={begin_date_str}&end={end_date_str}&lat={lat}&lon={lon}&units=human&response_format=csv\"\n",
    "    return url_template\n",
    "\n",
    "\n",
    "def _download_csv_from_url(url: str, weather_file_path: Path):\n",
    "    download_res = requests.get(url)\n",
    "    download_res.raise_for_status()  # Crash het programma als de download mislukte\n",
    "\n",
    "    with open(weather_file_path, \"wb\") as f:\n",
    "        f.write(download_res.content)\n",
    "\n",
    "\n",
    "def load_weather_data(begin_date: datetime.date, end_date: datetime.date):\n",
    "    # Check if weather folder exists\n",
    "    if not downloaded_weather_folder.is_dir():\n",
    "        downloaded_weather_folder.mkdir()\n",
    "\n",
    "    # Format dates\n",
    "    begin_date_str = _format_date(begin_date)\n",
    "    end_date_str = _format_date(end_date)\n",
    "\n",
    "    # Create file name\n",
    "    weather_file = f\"knmi_daggegevens_{begin_date_str}_{end_date_str}.csv\"\n",
    "    weather_file_path = downloaded_weather_folder / weather_file  # pathlib.Path object\n",
    "\n",
    "    # Check if the file exists\n",
    "    if not weather_file_path.is_file():\n",
    "        logger.info(\"Weather data not found in cache. Downloading new data.\")\n",
    "        download_url = _create_url(begin_date, end_date)\n",
    "        _download_csv_from_url(download_url, weather_file_path)\n",
    "\n",
    "    weather_df = pd.read_csv(weather_file_path)\n",
    "    return weather_df\n",
    "\n",
    "\n",
    "def load_weather_data_uur(begin_date: datetime.date, end_date: datetime.date, lat=52.1, lon=5.18):\n",
    "    # Check if weather folder exists\n",
    "    if not downloaded_weather_uur_folder.is_dir():\n",
    "        downloaded_weather_uur_folder.mkdir()\n",
    "\n",
    "    # Format dates\n",
    "    begin_date_str = _format_date(begin_date)\n",
    "    end_date_str = _format_date(end_date)\n",
    "\n",
    "    # Create file name\n",
    "    weather_file = f\"knmi_uurgegevens_{begin_date_str}_{end_date_str}.csv\"\n",
    "    weather_file_path = downloaded_weather_uur_folder / weather_file  # pathlib.Path object\n",
    "\n",
    "    # Check if the file exists\n",
    "    if not weather_file_path.is_file():\n",
    "        logger.info(\"Weather data not found in cache. Downloading new data.\")\n",
    "        download_url = _create_url_uur(begin_date, end_date, lat, lon)\n",
    "        _download_csv_from_url(download_url, weather_file_path)\n",
    "\n",
    "    weather_df = pd.read_csv(weather_file_path)\n",
    "    return weather_df\n",
    "\n",
    "\n",
    "def load_weather_data_cds(begin_date: datetime.date, end_date: datetime.date, lat=52.1, lon=5.18):\n",
    "    # Check if weather folder exists\n",
    "    if not downloaded_weather_cds_folder.is_dir():\n",
    "        downloaded_weather_cds_folder.mkdir()\n",
    "\n",
    "    # Format dates\n",
    "    begin_date_str = _format_date(begin_date)\n",
    "    end_date_str = _format_date(end_date)\n",
    "\n",
    "    # Create file name\n",
    "    weather_file = f\"Climate_Data_Store_{begin_date_str}_{end_date_str}.csv\"\n",
    "    weather_file_path = downloaded_weather_cds_folder / weather_file  # pathlib.Path object\n",
    "\n",
    "    # Check if the file exists\n",
    "    if not weather_file_path.is_file():\n",
    "        logger.info(\"Weather data not found in cache. Downloading new data.\")\n",
    "        download_url = _create_url_cds(begin_date, end_date, lat, lon)\n",
    "        _download_csv_from_url(download_url, weather_file_path)\n",
    "\n",
    "    weather_df = pd.read_csv(weather_file_path)\n",
    "    return weather_df"
   ]
  },
  {
   "cell_type": "markdown",
   "metadata": {},
   "source": [
    "### For us the most important part is the soil temperature (T_soil) with this function we can pull the soil temperature of a given level (depth)."
   ]
  },
  {
   "cell_type": "code",
   "execution_count": 3,
   "metadata": {},
   "outputs": [],
   "source": [
    "# the soil level can be changed but most import is level 3\n",
    "def extract_soil_temperature(level=3): \n",
    "    if level not in [1,2,3,4]:\n",
    "        return \"Only levels 1, 2, 3 and 4 exist\"\n",
    "    T_soil = weather_data[\"soil_temperature_level_{0}\".format(level)]\n",
    "    return T_soil"
   ]
  },
  {
   "cell_type": "markdown",
   "metadata": {},
   "source": [
    "### Here we calculate the T_soil for a given circuit and timebound"
   ]
  },
  {
   "cell_type": "code",
   "execution_count": 10,
   "metadata": {},
   "outputs": [],
   "source": [
    "lat,lon = XY_to_latlon(circuit_1358)\n",
    "time_bound = (pd.Timestamp(2019, 1, 29), pd.Timestamp(2021, 11, 30))\n",
    "weather_data = load_weather_data_cds(time_bound[0], time_bound[1], lat, lon)\n",
    "\n",
    "T_soil = extract_soil_temperature().to_numpy() # as numpy array"
   ]
  }
 ],
 "metadata": {
  "kernelspec": {
   "display_name": "Python 3",
   "language": "python",
   "name": "python3"
  },
  "language_info": {
   "codemirror_mode": {
    "name": "ipython",
    "version": 3
   },
   "file_extension": ".py",
   "mimetype": "text/x-python",
   "name": "python",
   "nbconvert_exporter": "python",
   "pygments_lexer": "ipython3",
   "version": "3.7.3"
  }
 },
 "nbformat": 4,
 "nbformat_minor": 2
}
