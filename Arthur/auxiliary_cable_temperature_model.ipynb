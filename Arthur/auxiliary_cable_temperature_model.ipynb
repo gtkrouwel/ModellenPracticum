{
 "cells": [
  {
   "cell_type": "code",
   "execution_count": 1,
   "metadata": {},
   "outputs": [
    {
     "ename": "ModuleNotFoundError",
     "evalue": "No module named 'T_soil'",
     "output_type": "error",
     "traceback": [
      "\u001b[1;31m---------------------------------------------------------------------------\u001b[0m",
      "\u001b[1;31mModuleNotFoundError\u001b[0m                       Traceback (most recent call last)",
      "\u001b[1;32mc:\\Users\\alset\\Documents\\Arthur\\02 Education\\01 University\\04 Mathematics year 4\\Quarter 3\\04 Modellenpracticum\\MyGitRepositories\\ModellenPracticum\\Arthur\\auxiliary_cable_temperature_model.ipynb Cell 1'\u001b[0m in \u001b[0;36m<cell line: 19>\u001b[1;34m()\u001b[0m\n\u001b[0;32m     <a href='vscode-notebook-cell:/c%3A/Users/alset/Documents/Arthur/02%20Education/01%20University/04%20Mathematics%20year%204/Quarter%203/04%20Modellenpracticum/MyGitRepositories/ModellenPracticum/Arthur/auxiliary_cable_temperature_model.ipynb#ch0000000?line=16'>17</a>\u001b[0m path_to_soil_tempt \u001b[39m=\u001b[39m Path(os\u001b[39m.\u001b[39mpardir, \u001b[39m\"\u001b[39m\u001b[39mDavyWestra\u001b[39m\u001b[39m\"\u001b[39m)\n\u001b[0;32m     <a href='vscode-notebook-cell:/c%3A/Users/alset/Documents/Arthur/02%20Education/01%20University/04%20Mathematics%20year%204/Quarter%203/04%20Modellenpracticum/MyGitRepositories/ModellenPracticum/Arthur/auxiliary_cable_temperature_model.ipynb#ch0000000?line=17'>18</a>\u001b[0m sys\u001b[39m.\u001b[39mpath\u001b[39m.\u001b[39mappend(\u001b[39mstr\u001b[39m(path_to_soil_tempt\u001b[39m.\u001b[39mresolve()))\n\u001b[1;32m---> <a href='vscode-notebook-cell:/c%3A/Users/alset/Documents/Arthur/02%20Education/01%20University/04%20Mathematics%20year%204/Quarter%203/04%20Modellenpracticum/MyGitRepositories/ModellenPracticum/Arthur/auxiliary_cable_temperature_model.ipynb#ch0000000?line=18'>19</a>\u001b[0m \u001b[39mfrom\u001b[39;00m \u001b[39mT_soil\u001b[39;00m \u001b[39mimport\u001b[39;00m extract_soil_temperature\n",
      "\u001b[1;31mModuleNotFoundError\u001b[0m: No module named 'T_soil'"
     ]
    }
   ],
   "source": [
    "import os\n",
    "from pathlib import Path\n",
    "import numpy as np\n",
    "import import_ipynb\n",
    "\n",
    "path_to_alliander_repo = Path(os.pardir, os.pardir, \"modellenpracticum2022-speed-of-heat\")\n",
    "path_to_data = path_to_alliander_repo / \"data\"\n",
    "# Directory containing preprocess.py with predefined functions for loading data.\n",
    "path_to_preprocess = path_to_alliander_repo / \"notebooks\"\n",
    "\n",
    "import sys\n",
    "# Make path absolute and tell Python to also look there when importing modules.\n",
    "sys.path.append(str(path_to_preprocess.resolve()))\n",
    "\n",
    "from preprocess import *\n",
    "\n",
    "path_to_soil_tempt = Path(os.pardir, \"DavyWestra\")\n",
    "sys.path.append(str(path_to_soil_tempt.resolve()))\n",
    "from T_soil import extract_soil_temperature  # TODO haven't yet managed to import anything from T_soil.ipynb."
   ]
  },
  {
   "cell_type": "markdown",
   "metadata": {},
   "source": [
    "# Cable temperature\n",
    "The equation for our model:<br>\n",
    "(By sander:) T<sub>cable</sub>(t) = CP(t) + T<sub>soil</sub><br>\n",
    "(By Pieter Cas:) T<sub>cable</sub>(t) = CI(t)<sup>2</sup> + T<sub>soil</sub><br>\n",
    "Since Pieter Cas calculated C assuming the second model, I will also have to use that model. (Note that P &ne; I<sup>2</sup> in general.)"
   ]
  },
  {
   "cell_type": "code",
   "execution_count": 6,
   "metadata": {},
   "outputs": [],
   "source": [
    "parameter_c = 7.79e-8\n",
    "\n",
    "# def t_cable_equation(x, c):\n",
    "#     \"\"\"Equation to compute cable temperature.\n",
    "#     Input:\n",
    "#     - x\n",
    "#       Array-like with two elements:\n",
    "#       - x[0] is the power P through the cable.\n",
    "#       - x[1] is the soil temperature T_soil.\n",
    "#     - c\n",
    "#       The parameter: the constant \"C\" from the model equation.\n",
    "# \n",
    "#     Output: T_cable\"\"\"\n",
    "#     return c * x[0] + x[1]"
   ]
  },
  {
   "cell_type": "code",
   "execution_count": 8,
   "metadata": {},
   "outputs": [
    {
     "name": "stdout",
     "output_type": "stream",
     "text": [
      "[[Timestamp('2021-01-01 00:15:00') 88.9 1.68 -0.23]\n",
      " [Timestamp('2021-01-01 00:30:00') 86.77 1.59 -0.23]\n",
      " [Timestamp('2021-01-01 00:45:00') 86.6 1.58 -0.23]\n",
      " ...\n",
      " [Timestamp('2022-01-18 15:15:00') 212.13 3.89 -0.25]\n",
      " [Timestamp('2022-01-18 15:30:00') 209.99 3.83 -0.28]\n",
      " [Timestamp('2022-01-18 15:45:00') 209.94 3.84 -0.28]]\n"
     ]
    }
   ],
   "source": [
    "data = load_wop_data(1358,path_to_data)\n",
    "print(data.to_numpy())"
   ]
  },
  {
   "cell_type": "code",
   "execution_count": null,
   "metadata": {},
   "outputs": [],
   "source": []
  },
  {
   "cell_type": "code",
   "execution_count": 5,
   "metadata": {},
   "outputs": [],
   "source": [
    "def get_cable_temperature_data(circuit_no):\n",
    "    load_wop_data(circuit_no, path_to_data)\n",
    "    return t_cable"
   ]
  }
 ],
 "metadata": {
  "kernelspec": {
   "display_name": "Python 3",
   "language": "python",
   "name": "python3"
  },
  "language_info": {
   "codemirror_mode": {
    "name": "ipython",
    "version": 3
   },
   "file_extension": ".py",
   "mimetype": "text/x-python",
   "name": "python",
   "nbconvert_exporter": "python",
   "pygments_lexer": "ipython3",
   "version": "3.10.2"
  }
 },
 "nbformat": 4,
 "nbformat_minor": 4
}
